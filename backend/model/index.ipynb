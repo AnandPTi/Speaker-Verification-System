{
 "cells": [
  {
   "cell_type": "code",
   "execution_count": null,
   "metadata": {},
   "outputs": [],
   "source": []
  },
  {
   "cell_type": "code",
   "execution_count": null,
   "metadata": {},
   "outputs": [
    {
     "ename": "",
     "evalue": "",
     "output_type": "error",
     "traceback": [
      "\u001b[1;31mRunning cells with 'Python' requires the ipykernel package.\n",
      "\u001b[1;31mRun the following command to install 'ipykernel' into the Python environment. \n",
      "\u001b[1;31mCommand: '/media/asifr/work/speaker_dnn/.venv/bin/python -m pip install ipykernel -U --user --force-reinstall'"
     ]
    }
   ],
   "source": [
    "from pydub import AudioSegment\n",
    "import wave\n",
    "import os\n",
    "\n",
    "# Input .wav file\n",
    "input_file = \"prakash.wav\"\n",
    "\n",
    "# Output folder to save the segments\n",
    "output_folder = \"samples/prakash\"\n",
    "os.makedirs(output_folder, exist_ok=True)\n",
    "\n",
    "# Load the audio file\n",
    "audio = AudioSegment.from_wav(input_file)\n",
    "\n",
    "# Duration of each segment in milliseconds (0.01 seconds)\n",
    "segment_duration = 2000\n",
    "\n",
    "# Total duration of the audio in milliseconds\n",
    "total_duration = len(audio)\n",
    "\n",
    "# Calculate the number of segments\n",
    "num_segments = total_duration // segment_duration\n",
    "\n",
    "# Split the audio into segments\n",
    "for i in range(num_segments):\n",
    "    # Calculate the start and end time of the segment\n",
    "    start_time = i * segment_duration\n",
    "    end_time = (i + 1) * segment_duration\n",
    "\n",
    "    # Extract the segment\n",
    "    segment = audio[start_time:end_time]\n",
    "\n",
    "    # Save the segment to a new .wav file\n",
    "    output_file = os.path.join(output_folder, f\"{i}.wav\")\n",
    "    segment.export(output_file, format=\"wav\")\n",
    "\n",
    "print(f\"Split {input_file} into {num_segments} segments in {output_folder}.\")"
   ]
  }
 ],
 "metadata": {
  "kernelspec": {
   "display_name": "Python 3",
   "language": "python",
   "name": "python3"
  },
  "language_info": {
   "codemirror_mode": {
    "name": "ipython",
    "version": 3
   },
   "file_extension": ".py",
   "mimetype": "text/x-python",
   "name": "python",
   "nbconvert_exporter": "python",
   "pygments_lexer": "ipython3",
   "version": "3.10.12"
  }
 },
 "nbformat": 4,
 "nbformat_minor": 2
}
